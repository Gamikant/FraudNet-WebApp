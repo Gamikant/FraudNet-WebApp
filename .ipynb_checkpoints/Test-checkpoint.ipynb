{
 "cells": [
  {
   "cell_type": "code",
   "execution_count": null,
   "id": "202b8e26",
   "metadata": {},
   "outputs": [],
   "source": [
    "import pandas as pd\n",
    "import numpy as np\n",
    "from sklearn.model_selection import train_test_split"
   ]
  },
  {
   "cell_type": "code",
   "execution_count": null,
   "id": "ac677c74",
   "metadata": {},
   "outputs": [],
   "source": [
    "df = pd.read_csv('creditcard.csv')"
   ]
  },
  {
   "cell_type": "code",
   "execution_count": null,
   "id": "023a0d64",
   "metadata": {},
   "outputs": [],
   "source": [
    "bad_percentage = np.round(100-df[df['Class']==0].shape[0]*100/(df.shape[0]), 4)\n",
    "print(f'The bad percentage of the data is: {bad_percentage}%')"
   ]
  },
  {
   "cell_type": "code",
   "execution_count": null,
   "id": "cb9a2137",
   "metadata": {},
   "outputs": [],
   "source": [
    "training_set, test_set = train_test_split(df, test_size = 0.25, stratify = df['Class'], random_state=42)\n",
    "training_set, validation_set = train_test_split(training_set, test_size = 0.25, stratify = training_set['Class'], random_state=42)"
   ]
  },
  {
   "cell_type": "code",
   "execution_count": null,
   "id": "0da01f8f",
   "metadata": {},
   "outputs": [],
   "source": [
    "training_set = training_set.drop(['Time'], axis=1)\n",
    "validation_set = validation_set.drop(['Time'], axis=1)\n",
    "test_set = test_set.drop(['Time'], axis=1)"
   ]
  },
  {
   "cell_type": "code",
   "execution_count": null,
   "id": "ab16a1bf",
   "metadata": {},
   "outputs": [],
   "source": [
    "training_set[training_set['Class']==1].shape"
   ]
  },
  {
   "cell_type": "code",
   "execution_count": null,
   "id": "13f537f1",
   "metadata": {},
   "outputs": [],
   "source": [
    "validation_set[validation_set['Class']==1].shape"
   ]
  },
  {
   "cell_type": "code",
   "execution_count": null,
   "id": "993278cc",
   "metadata": {},
   "outputs": [],
   "source": [
    "test_set[test_set['Class']==1].shape"
   ]
  },
  {
   "cell_type": "code",
   "execution_count": null,
   "id": "19c61761",
   "metadata": {},
   "outputs": [],
   "source": [
    "training_set.to_csv('dev.csv', index = False)\n",
    "validation_set.to_csv('oos.csv', index = False)\n",
    "test_set.to_csv('oot.csv', index = False)"
   ]
  },
  {
   "cell_type": "code",
   "execution_count": 33,
   "id": "06865be9",
   "metadata": {},
   "outputs": [],
   "source": [
    "import pandas as pd\n",
    "import numpy as np\n",
    "from sklearn.preprocessing import StandardScaler\n",
    "from sklearn.linear_model import LogisticRegression\n",
    "from sklearn.model_selection import GridSearchCV\n",
    "from sklearn.metrics import f1_score, confusion_matrix, precision_score, recall_score\n",
    "from keras.models import Sequential, load_model\n",
    "from keras.layers import Dense, Dropout\n",
    "from keras.callbacks import EarlyStopping\n",
    "import h5py\n",
    "import joblib\n",
    "from tqdm import tqdm"
   ]
  },
  {
   "cell_type": "code",
   "execution_count": 36,
   "id": "2b2b7e02",
   "metadata": {},
   "outputs": [],
   "source": [
    "def load_data(dev_path, oos_path, oot_path):\n",
    "    dev = pd.read_csv(dev_path)\n",
    "    oos = pd.read_csv(oos_path)\n",
    "    oot = pd.read_csv(oot_path)\n",
    "    return dev, oos, oot\n",
    "\n",
    "def standardize_data(dev, oos, oot):\n",
    "    scaler = StandardScaler()\n",
    "    dev_scaled = scaler.fit_transform(dev.drop(['Class'], axis=1))\n",
    "    oos_scaled = scaler.transform(oos.drop(['Class'], axis=1))\n",
    "    oot_scaled = scaler.transform(oot.drop(['Class'], axis=1))\n",
    "    return dev_scaled, oos_scaled, oot_scaled, scaler\n",
    "\n",
    "def split_data(dev, oos):\n",
    "    dev_F = dev[dev['Class'] == 1].drop(columns=['Class'])\n",
    "    dev_NF = dev[dev['Class'] == 0].drop(columns=['Class'])\n",
    "    oos_F = oos[oos['Class'] == 1].drop(columns=['Class'])\n",
    "    oos_NF = oos[oos['Class'] == 0].drop(columns=['Class'])\n",
    "    return dev_F, dev_NF, oos_F, oos_NF\n",
    "\n",
    "def build_autoencoder(input_dim, layer_ratios, n_features, activation='relu'):\n",
    "    model = Sequential()\n",
    "    model.add(Dense(int(float(layer_ratios[0]) * n_features), activation=activation, input_shape=(input_dim,)))\n",
    "    model.add(Dropout(0.1))\n",
    "    model.add(Dense(int(float(layer_ratios[1]) * n_features), activation=activation))\n",
    "    model.add(Dense(int(float(layer_ratios[2]) * n_features), activation='linear'))  # Bottleneck layer\n",
    "    model.add(Dense(int(float(layer_ratios[1]) * n_features), activation=activation))\n",
    "    model.add(Dense(int(float(layer_ratios[0]) * n_features), activation=activation))\n",
    "    model.add(Dropout(0.1))\n",
    "    model.add(Dense(input_dim, activation='sigmoid'))\n",
    "    model.compile(optimizer='adam', loss='mse')\n",
    "    return model\n",
    "\n",
    "def train_autoencoder(train_data, val_data, model, epochs=50, batch_size=256):\n",
    "    early_stopping = EarlyStopping(monitor='val_loss', patience=5)\n",
    "    model.fit(train_data, train_data, epochs=epochs, batch_size=batch_size, \n",
    "              validation_data=(val_data, val_data), callbacks=[early_stopping], verbose=0)\n",
    "    return model\n",
    "\n",
    "def get_feature_importance(model, data):\n",
    "    predictions = model.predict(data)\n",
    "    reconstruction_error = np.mean((predictions - data) ** 2, axis=0)\n",
    "    return reconstruction_error\n",
    "\n",
    "def feature_selection(dev_F, dev_NF, oos_F, oos_NF, n_features, feature_threshold, ratios, activation):\n",
    "    # Train on fraud examples\n",
    "    model_F = build_autoencoder(dev_F.shape[1], ratios, n_features, activation)\n",
    "    model_F = train_autoencoder(dev_F, oos_F, model_F)\n",
    "    importance_F = get_feature_importance(model_F, dev_F)\n",
    "    \n",
    "    # Train on non-fraud examples\n",
    "    model_NF = build_autoencoder(dev_NF.shape[1], ratios,n_features, activation)\n",
    "    model_NF = train_autoencoder(dev_NF, oos_NF, model_NF)\n",
    "    importance_NF = get_feature_importance(model_NF, dev_NF)\n",
    "    \n",
    "    # Determine features to drop\n",
    "    features_to_drop = determine_features_to_drop(importance_F, importance_NF, feature_threshold)\n",
    "    return features_to_drop\n",
    "\n",
    "def determine_features_to_drop(importance_F, importance_NF, feature_threshold):\n",
    "    top_features_NF = np.argsort(importance_NF)[-int(len(importance_NF) * feature_threshold):]\n",
    "    bottom_features_F = np.where(importance_F <= 0)[0]\n",
    "    features_to_drop = np.union1d(top_features_NF, bottom_features_F)\n",
    "    return features_to_drop\n",
    "\n",
    "def drop_features(data, features_to_drop, all_features):\n",
    "    data = pd.DataFrame(data, columns = all_features)\n",
    "    return data.drop(columns=features_to_drop)\n",
    "\n",
    "def train_final_autoencoder(train_data, val_data, ratios, activation, n_features):\n",
    "    model = build_autoencoder(train_data.shape[1], ratios, n_features, activation)\n",
    "    model = train_autoencoder(train_data, val_data, model)\n",
    "    return model\n",
    "\n",
    "def encode_data(model, data):\n",
    "    encoder = Sequential(model.layers[:4])  # Extract encoder part\n",
    "    encoded_data = encoder.predict(data)\n",
    "    return encoded_data\n",
    "\n",
    "def grid_search_logistic(X_train, y_train, X_test, y_test):\n",
    "    param_grid = {'C': [0.1], 'solver': ['lbfgs']}\n",
    "    lr = LogisticRegression()\n",
    "    grid = GridSearchCV(lr, param_grid, cv=5, scoring='f1')\n",
    "    grid.fit(X_train, y_train)\n",
    "    best_model = grid.best_estimator_\n",
    "    y_pred = best_model.predict_proba(X_test)\n",
    "    \n",
    "    f1 = f1_score(y_test, y_pred)\n",
    "    precision = precision_score(y_test, y_pred)\n",
    "    recall = recall_score(y_test, y_pred)\n",
    "    print(confusion_matrix(y_test, y_pred))\n",
    "    return best_model, f1, precision, recall\n",
    "\n",
    "def save_results(log_file, best_params, features_dropped, encoded_dev, encoded_oos, encoded_oot, encoder_model, logistic_model):\n",
    "    pd.DataFrame(log_file).to_csv('pipeline_log.csv', index=False)\n",
    "    with open('best_params.txt', 'w') as f:\n",
    "        f.write(str(best_params))\n",
    "    with open('features_dropped.txt', 'w') as f:\n",
    "        f.write(str(features_dropped))\n",
    "    pd.DataFrame(encoded_dev).to_csv('encoded_dev.csv', index=False)\n",
    "    pd.DataFrame(encoded_oos).to_csv('encoded_oos.csv', index=False)\n",
    "    pd.DataFrame(encoded_oot).to_csv('encoded_oot.csv', index=False)\n",
    "    encoder_model.save('encoder_model.h5')\n",
    "    joblib.dump(logistic_model, 'logistic_model.pkl')\n",
    "\n",
    "def pipeline(dev_path, oos_path, oot_path, hyperparameters):\n",
    "    dev, oos, oot = load_data(dev_path, oos_path, oot_path)\n",
    "    dev_F, dev_NF, oos_F, oos_NF = split_data(dev, oos)\n",
    "    all_features = dev_F.columns\n",
    "    n_features = dev_F.shape[1]\n",
    "    dev_scaled, oos_scaled, oot_scaled, scaler = standardize_data(dev, oos, oot)\n",
    "    dev_F = scaler.transform(dev_F)\n",
    "    oos_F = scaler.transform(oos_F)\n",
    "    dev_NF = scaler.transform(dev_NF)\n",
    "    oos_NF = scaler.transform(oos_NF)\n",
    "    \n",
    "    features_to_drop = feature_selection(dev_F, dev_NF, oos_F, oos_NF, n_features, \n",
    "                                         hyperparameters['feature_threshold'], \n",
    "                                         hyperparameters['ratios'], \n",
    "                                         hyperparameters['activation'])\n",
    "    features_to_drop = [all_features[i] for i in features_to_drop]\n",
    "    new_dev = drop_features(dev_scaled, features_to_drop, all_features)\n",
    "    new_dev_F = drop_features(dev_F, features_to_drop, all_features)\n",
    "    new_dev_NF = drop_features(dev_NF, features_to_drop, all_features)\n",
    "    new_oos_F = drop_features(oos_F, features_to_drop, all_features)\n",
    "    new_oos_NF = drop_features(oos_NF, features_to_drop, all_features)\n",
    "    new_oos = drop_features(oos_scaled, features_to_drop, all_features)\n",
    "    new_oot = drop_features(oot_scaled, features_to_drop, all_features)\n",
    "    \n",
    "    if hyperparameters['train_on'] == 'abnormal':\n",
    "        train_on = new_dev_NF\n",
    "        val_on = new_oos_NF\n",
    "    else:\n",
    "        train_on = new_dev_F\n",
    "        val_on = new_oos_F\n",
    "    \n",
    "    final_autoencoder = train_final_autoencoder(train_on, val_on, hyperparameters['ratios'], hyperparameters['activation'], n_features)\n",
    "    encoded_dev = encode_data(final_autoencoder, new_dev)\n",
    "    encoded_oos = encode_data(final_autoencoder, new_oos)\n",
    "    encoded_oot = encode_data(final_autoencoder, new_oot)\n",
    "    \n",
    "    best_logistic_model, best_f1, precision, recall = grid_search_logistic(encoded_dev, dev['Class'], encoded_oot, oot['Class'])\n",
    "    print(f'f1_score = {best_f1}')\n",
    "    print(f'precision = {precision}')\n",
    "    print(f'recall = {recall}')\n",
    "    print(confusion_matrix)\n",
    "    save_results(hyperparameters, best_logistic_model.get_params(), features_to_drop, \n",
    "                 encoded_dev, encoded_oos, encoded_oot, final_autoencoder, best_logistic_model)"
   ]
  },
  {
   "cell_type": "code",
   "execution_count": 37,
   "id": "79cd2543",
   "metadata": {},
   "outputs": [
    {
     "name": "stdout",
     "output_type": "stream",
     "text": [
      "9/9 [==============================] - 0s 3ms/step\n",
      "4998/4998 [==============================] - 14s 3ms/step\n",
      "5007/5007 [==============================] - 13s 3ms/step\n",
      "1669/1669 [==============================] - 5s 3ms/step\n",
      "2226/2226 [==============================] - 6s 3ms/step\n",
      "[[71065    14]\n",
      " [   54    69]]\n",
      "f1_score = 0.6699029126213593\n",
      "precision = 0.8313253012048193\n",
      "recall = 0.5609756097560976\n",
      "<function confusion_matrix at 0x0000020286BA7420>\n"
     ]
    },
    {
     "name": "stderr",
     "output_type": "stream",
     "text": [
      "C:\\Users\\prana\\anaconda3\\Lib\\site-packages\\keras\\src\\engine\\training.py:3000: UserWarning: You are saving your model as an HDF5 file via `model.save()`. This file format is considered legacy. We recommend using instead the native Keras format, e.g. `model.save('my_model.keras')`.\n",
      "  saving_api.save_model(\n"
     ]
    }
   ],
   "source": [
    "if __name__ == \"__main__\":\n",
    "    hyperparameters = {\n",
    "        'train_on': 'normal',\n",
    "        'feature_threshold': 0.1,\n",
    "        'ratios': [0.82, 0.52, 0.22],\n",
    "        'activation': 'selu'\n",
    "    }\n",
    "    pipeline('dev.csv', 'oos.csv', 'oot.csv', hyperparameters)"
   ]
  },
  {
   "cell_type": "code",
   "execution_count": null,
   "id": "0f18766b",
   "metadata": {},
   "outputs": [],
   "source": []
  }
 ],
 "metadata": {
  "kernelspec": {
   "display_name": "Python 3 (ipykernel)",
   "language": "python",
   "name": "python3"
  },
  "language_info": {
   "codemirror_mode": {
    "name": "ipython",
    "version": 3
   },
   "file_extension": ".py",
   "mimetype": "text/x-python",
   "name": "python",
   "nbconvert_exporter": "python",
   "pygments_lexer": "ipython3",
   "version": "3.11.3"
  }
 },
 "nbformat": 4,
 "nbformat_minor": 5
}
